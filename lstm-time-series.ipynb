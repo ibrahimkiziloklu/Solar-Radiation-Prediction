{
 "cells": [
  {
   "cell_type": "markdown",
   "metadata": {
    "id": "sbJuwxJ5cO2c",
    "papermill": {
     "duration": 0.018766,
     "end_time": "2021-02-14T01:32:30.186609",
     "exception": false,
     "start_time": "2021-02-14T01:32:30.167843",
     "status": "completed"
    },
    "tags": []
   },
   "source": [
    "1-VERİ HAZIRLAMA AŞAMASI\n"
   ]
  },
  {
   "cell_type": "markdown",
   "metadata": {
    "id": "89G5nptPcVja",
    "papermill": {
     "duration": 0.018194,
     "end_time": "2021-02-14T01:32:30.223482",
     "exception": false,
     "start_time": "2021-02-14T01:32:30.205288",
     "status": "completed"
    },
    "tags": []
   },
   "source": [
    "Gerekli kütüphaneleri çağıralım "
   ]
  },
  {
   "cell_type": "code",
   "execution_count": 1,
   "metadata": {
    "execution": {
     "iopub.execute_input": "2021-02-14T01:32:30.266952Z",
     "iopub.status.busy": "2021-02-14T01:32:30.266155Z",
     "iopub.status.idle": "2021-02-14T01:32:37.082406Z",
     "shell.execute_reply": "2021-02-14T01:32:37.081068Z"
    },
    "id": "THValPY7cMYg",
    "papermill": {
     "duration": 6.841608,
     "end_time": "2021-02-14T01:32:37.082636",
     "exception": false,
     "start_time": "2021-02-14T01:32:30.241028",
     "status": "completed"
    },
    "tags": []
   },
   "outputs": [],
   "source": [
    "#Genel komutlar\n",
    "\n",
    "import numpy as np\n",
    "\n",
    "import matplotlib.pyplot as plt\n",
    "import pandas as pd\n",
    "from pandas import read_csv\n",
    "#RMSE ile tahmin hatalarımı belirlemek için sqrt çağırdım.(evaluate forecast)\n",
    "from math import sqrt\n",
    "from sklearn.metrics import mean_squared_error\n",
    "#Verisetini ayıklamak için çağırdım\n",
    "from numpy import split\n",
    "from numpy import array\n",
    "\n",
    "#LSTM MMODELLETİM İÇİN GEREKLİ KERAS KÜTÜPHANELERİM\n",
    "from keras.optimizers import Adam\n",
    "from keras.layers import Dropout\n",
    "from keras.models import Sequential\n",
    "from keras.layers import Dense\n",
    "from keras.layers import Flatten\n",
    "from keras.layers import LSTM\n",
    "from keras.layers import RepeatVector\n",
    "from keras.layers import TimeDistributed\n",
    "from keras.callbacks import EarlyStopping, ReduceLROnPlateau, ModelCheckpoint, TensorBoard"
   ]
  },
  {
   "cell_type": "code",
   "execution_count": 2,
   "metadata": {
    "execution": {
     "iopub.execute_input": "2021-02-14T01:32:37.124286Z",
     "iopub.status.busy": "2021-02-14T01:32:37.123584Z",
     "iopub.status.idle": "2021-02-14T01:32:37.419711Z",
     "shell.execute_reply": "2021-02-14T01:32:37.419137Z"
    },
    "id": "EcPU7HoAtqYF",
    "papermill": {
     "duration": 0.319117,
     "end_time": "2021-02-14T01:32:37.419869",
     "exception": false,
     "start_time": "2021-02-14T01:32:37.100752",
     "status": "completed"
    },
    "tags": []
   },
   "outputs": [],
   "source": [
    "path = \"../input/solar-radiation-dataset/2017_2019.csv\"\n",
    "df = pd.read_csv(path)"
   ]
  },
  {
   "cell_type": "markdown",
   "metadata": {
    "id": "_1SR0tvUf7RW",
    "papermill": {
     "duration": 0.01724,
     "end_time": "2021-02-14T01:32:37.454979",
     "exception": false,
     "start_time": "2021-02-14T01:32:37.437739",
     "status": "completed"
    },
    "tags": []
   },
   "source": [
    "Verisetini oluşturuken oluşan boş sütunu sildim"
   ]
  },
  {
   "cell_type": "code",
   "execution_count": 3,
   "metadata": {
    "execution": {
     "iopub.execute_input": "2021-02-14T01:32:37.515407Z",
     "iopub.status.busy": "2021-02-14T01:32:37.514678Z",
     "iopub.status.idle": "2021-02-14T01:32:37.517637Z",
     "shell.execute_reply": "2021-02-14T01:32:37.517083Z"
    },
    "id": "7bJc_Vr6f4K-",
    "papermill": {
     "duration": 0.044995,
     "end_time": "2021-02-14T01:32:37.517780",
     "exception": false,
     "start_time": "2021-02-14T01:32:37.472785",
     "status": "completed"
    },
    "tags": []
   },
   "outputs": [],
   "source": [
    "df=df.drop(['Unnamed: 18',\"DHI\",\"DNI\",\"Clearsky DHI\" ,\"Clearsky DNI\",\"Clearsky GHI\"], axis = 1) \n"
   ]
  },
  {
   "cell_type": "markdown",
   "metadata": {
    "id": "opzrVa9wgCDR",
    "papermill": {
     "duration": 0.017773,
     "end_time": "2021-02-14T01:32:37.553559",
     "exception": false,
     "start_time": "2021-02-14T01:32:37.535786",
     "status": "completed"
    },
    "tags": []
   },
   "source": [
    "-Zaman sütunlarını birleştirip datetime'a çevirdim, sonra diğer sütunları sildim.\n",
    "\n",
    "-Datetime sütununu index yaptım ."
   ]
  },
  {
   "cell_type": "code",
   "execution_count": 4,
   "metadata": {
    "execution": {
     "iopub.execute_input": "2021-02-14T01:32:37.602428Z",
     "iopub.status.busy": "2021-02-14T01:32:37.601665Z",
     "iopub.status.idle": "2021-02-14T01:32:39.653186Z",
     "shell.execute_reply": "2021-02-14T01:32:39.653784Z"
    },
    "id": "vs6XzwNJfu1l",
    "papermill": {
     "duration": 2.080327,
     "end_time": "2021-02-14T01:32:39.653973",
     "exception": false,
     "start_time": "2021-02-14T01:32:37.573646",
     "status": "completed"
    },
    "tags": []
   },
   "outputs": [],
   "source": [
    "cols = [\"Year\",\"Month\",\"Day\",\"Hour\",\"Minute\"]\n",
    "df[\"date_time\"] = df[cols].apply(lambda row: \"-\".join(row.values.astype(str)), axis=1)"
   ]
  },
  {
   "cell_type": "code",
   "execution_count": 5,
   "metadata": {
    "execution": {
     "iopub.execute_input": "2021-02-14T01:32:39.695307Z",
     "iopub.status.busy": "2021-02-14T01:32:39.694667Z",
     "iopub.status.idle": "2021-02-14T01:32:40.188787Z",
     "shell.execute_reply": "2021-02-14T01:32:40.188172Z"
    },
    "id": "1IVeOPkif2tM",
    "papermill": {
     "duration": 0.516662,
     "end_time": "2021-02-14T01:32:40.188939",
     "exception": false,
     "start_time": "2021-02-14T01:32:39.672277",
     "status": "completed"
    },
    "tags": []
   },
   "outputs": [],
   "source": [
    "df['date_time'] = pd.to_datetime(df['date_time'], format='%Y-%m-%d-%H-%M')"
   ]
  },
  {
   "cell_type": "code",
   "execution_count": 6,
   "metadata": {
    "execution": {
     "iopub.execute_input": "2021-02-14T01:32:40.235048Z",
     "iopub.status.busy": "2021-02-14T01:32:40.234040Z",
     "iopub.status.idle": "2021-02-14T01:32:40.236698Z",
     "shell.execute_reply": "2021-02-14T01:32:40.237264Z"
    },
    "id": "7wAhQipsggb3",
    "papermill": {
     "duration": 0.029842,
     "end_time": "2021-02-14T01:32:40.237452",
     "exception": false,
     "start_time": "2021-02-14T01:32:40.207610",
     "status": "completed"
    },
    "tags": []
   },
   "outputs": [],
   "source": [
    "df=df.drop([\"Year\",\"Month\",\"Day\",\"Hour\",\"Minute\"], axis = 1)"
   ]
  },
  {
   "cell_type": "code",
   "execution_count": 7,
   "metadata": {
    "execution": {
     "iopub.execute_input": "2021-02-14T01:32:40.280270Z",
     "iopub.status.busy": "2021-02-14T01:32:40.279119Z",
     "iopub.status.idle": "2021-02-14T01:32:40.285341Z",
     "shell.execute_reply": "2021-02-14T01:32:40.284775Z"
    },
    "id": "Pmn5PrCjglB-",
    "papermill": {
     "duration": 0.029707,
     "end_time": "2021-02-14T01:32:40.285501",
     "exception": false,
     "start_time": "2021-02-14T01:32:40.255794",
     "status": "completed"
    },
    "tags": []
   },
   "outputs": [],
   "source": [
    "df=df.set_index('date_time') #Columnu index yapmak için"
   ]
  },
  {
   "cell_type": "markdown",
   "metadata": {
    "id": "CEeBausA283r",
    "papermill": {
     "duration": 0.018193,
     "end_time": "2021-02-14T01:32:40.322278",
     "exception": false,
     "start_time": "2021-02-14T01:32:40.304085",
     "status": "completed"
    },
    "tags": []
   },
   "source": [
    "Tahmin etmek istediğim değeri son sütuna alıyorum."
   ]
  },
  {
   "cell_type": "code",
   "execution_count": 8,
   "metadata": {
    "execution": {
     "iopub.execute_input": "2021-02-14T01:32:40.362365Z",
     "iopub.status.busy": "2021-02-14T01:32:40.361714Z",
     "iopub.status.idle": "2021-02-14T01:32:40.388097Z",
     "shell.execute_reply": "2021-02-14T01:32:40.387554Z"
    },
    "id": "t8cu22eEh-sE",
    "outputId": "b69623b4-c01e-47f8-a7a2-7af4173a040b",
    "papermill": {
     "duration": 0.047459,
     "end_time": "2021-02-14T01:32:40.388238",
     "exception": false,
     "start_time": "2021-02-14T01:32:40.340779",
     "status": "completed"
    },
    "tags": []
   },
   "outputs": [
    {
     "data": {
      "text/html": [
       "<div>\n",
       "<style scoped>\n",
       "    .dataframe tbody tr th:only-of-type {\n",
       "        vertical-align: middle;\n",
       "    }\n",
       "\n",
       "    .dataframe tbody tr th {\n",
       "        vertical-align: top;\n",
       "    }\n",
       "\n",
       "    .dataframe thead th {\n",
       "        text-align: right;\n",
       "    }\n",
       "</style>\n",
       "<table border=\"1\" class=\"dataframe\">\n",
       "  <thead>\n",
       "    <tr style=\"text-align: right;\">\n",
       "      <th></th>\n",
       "      <th>Temperature</th>\n",
       "      <th>Dew Point</th>\n",
       "      <th>GHI</th>\n",
       "      <th>Relative Humidity</th>\n",
       "      <th>Solar Zenith Angle</th>\n",
       "      <th>Surface Albedo</th>\n",
       "      <th>Pressure</th>\n",
       "      <th>Wind Speed</th>\n",
       "    </tr>\n",
       "    <tr>\n",
       "      <th>date_time</th>\n",
       "      <th></th>\n",
       "      <th></th>\n",
       "      <th></th>\n",
       "      <th></th>\n",
       "      <th></th>\n",
       "      <th></th>\n",
       "      <th></th>\n",
       "      <th></th>\n",
       "    </tr>\n",
       "  </thead>\n",
       "  <tbody>\n",
       "    <tr>\n",
       "      <th>2017-01-01 00:00:00</th>\n",
       "      <td>-0.6</td>\n",
       "      <td>-2.6</td>\n",
       "      <td>0</td>\n",
       "      <td>86.29</td>\n",
       "      <td>152.92</td>\n",
       "      <td>0.12</td>\n",
       "      <td>1003</td>\n",
       "      <td>1.7</td>\n",
       "    </tr>\n",
       "    <tr>\n",
       "      <th>2017-01-01 00:15:00</th>\n",
       "      <td>-0.6</td>\n",
       "      <td>-2.6</td>\n",
       "      <td>0</td>\n",
       "      <td>86.29</td>\n",
       "      <td>150.22</td>\n",
       "      <td>0.12</td>\n",
       "      <td>1003</td>\n",
       "      <td>1.7</td>\n",
       "    </tr>\n",
       "    <tr>\n",
       "      <th>2017-01-01 00:30:00</th>\n",
       "      <td>-0.6</td>\n",
       "      <td>-2.6</td>\n",
       "      <td>0</td>\n",
       "      <td>86.29</td>\n",
       "      <td>147.43</td>\n",
       "      <td>0.12</td>\n",
       "      <td>1003</td>\n",
       "      <td>1.7</td>\n",
       "    </tr>\n",
       "    <tr>\n",
       "      <th>2017-01-01 00:45:00</th>\n",
       "      <td>-0.6</td>\n",
       "      <td>-2.7</td>\n",
       "      <td>0</td>\n",
       "      <td>85.54</td>\n",
       "      <td>144.60</td>\n",
       "      <td>0.12</td>\n",
       "      <td>1003</td>\n",
       "      <td>1.6</td>\n",
       "    </tr>\n",
       "    <tr>\n",
       "      <th>2017-01-01 01:00:00</th>\n",
       "      <td>-0.7</td>\n",
       "      <td>-2.7</td>\n",
       "      <td>0</td>\n",
       "      <td>86.17</td>\n",
       "      <td>141.71</td>\n",
       "      <td>0.12</td>\n",
       "      <td>1003</td>\n",
       "      <td>1.6</td>\n",
       "    </tr>\n",
       "  </tbody>\n",
       "</table>\n",
       "</div>"
      ],
      "text/plain": [
       "                     Temperature  Dew Point  GHI  Relative Humidity  \\\n",
       "date_time                                                             \n",
       "2017-01-01 00:00:00         -0.6       -2.6    0              86.29   \n",
       "2017-01-01 00:15:00         -0.6       -2.6    0              86.29   \n",
       "2017-01-01 00:30:00         -0.6       -2.6    0              86.29   \n",
       "2017-01-01 00:45:00         -0.6       -2.7    0              85.54   \n",
       "2017-01-01 01:00:00         -0.7       -2.7    0              86.17   \n",
       "\n",
       "                     Solar Zenith Angle  Surface Albedo  Pressure  Wind Speed  \n",
       "date_time                                                                      \n",
       "2017-01-01 00:00:00              152.92            0.12      1003         1.7  \n",
       "2017-01-01 00:15:00              150.22            0.12      1003         1.7  \n",
       "2017-01-01 00:30:00              147.43            0.12      1003         1.7  \n",
       "2017-01-01 00:45:00              144.60            0.12      1003         1.6  \n",
       "2017-01-01 01:00:00              141.71            0.12      1003         1.6  "
      ]
     },
     "execution_count": 8,
     "metadata": {},
     "output_type": "execute_result"
    }
   ],
   "source": [
    "df.head()"
   ]
  },
  {
   "cell_type": "code",
   "execution_count": 9,
   "metadata": {
    "execution": {
     "iopub.execute_input": "2021-02-14T01:32:40.435042Z",
     "iopub.status.busy": "2021-02-14T01:32:40.433998Z",
     "iopub.status.idle": "2021-02-14T01:32:40.444538Z",
     "shell.execute_reply": "2021-02-14T01:32:40.443779Z"
    },
    "id": "9QvFlNgA3ENt",
    "papermill": {
     "duration": 0.036854,
     "end_time": "2021-02-14T01:32:40.444691",
     "exception": false,
     "start_time": "2021-02-14T01:32:40.407837",
     "status": "completed"
    },
    "tags": []
   },
   "outputs": [],
   "source": [
    "df1 = df.pop('GHI') # GHI sütununu sil ve df1 içine kaydet.\n",
    "df['GHI']=df1 # GHI  serisini yeni bir sütun olarak sona ekle.\n"
   ]
  },
  {
   "cell_type": "markdown",
   "metadata": {
    "id": "ApgVMNIsM0Lk",
    "papermill": {
     "duration": 0.019452,
     "end_time": "2021-02-14T01:32:40.485564",
     "exception": false,
     "start_time": "2021-02-14T01:32:40.466112",
     "status": "completed"
    },
    "tags": []
   },
   "source": [
    "Verisetini LSTM modelinde öğrenilecek şekile getirmek için 3 boyutlu hale getirmem lazım. Tek bir inputta"
   ]
  },
  {
   "cell_type": "code",
   "execution_count": 10,
   "metadata": {
    "execution": {
     "iopub.execute_input": "2021-02-14T01:32:40.534154Z",
     "iopub.status.busy": "2021-02-14T01:32:40.533118Z",
     "iopub.status.idle": "2021-02-14T01:32:40.537488Z",
     "shell.execute_reply": "2021-02-14T01:32:40.536756Z"
    },
    "id": "A6F0SH5XDIfy",
    "papermill": {
     "duration": 0.031353,
     "end_time": "2021-02-14T01:32:40.537642",
     "exception": false,
     "start_time": "2021-02-14T01:32:40.506289",
     "status": "completed"
    },
    "tags": []
   },
   "outputs": [],
   "source": [
    "# split into days\n",
    "from numpy import split\n",
    "from numpy import array\n",
    "\n",
    " \n",
    "# split a univariate dataset into train/test sets\n",
    "def split_dataset(df):\n",
    "  train=df[100608:104448]\n",
    "\n",
    "  test=df[104448:]\n",
    "  train = array(split(train, len(train)/4))#günlük bölme yaptığım için 96 aldım.\n",
    "  test = array(split(test, len(test)/4))\n",
    "  return train, test"
   ]
  },
  {
   "cell_type": "markdown",
   "metadata": {
    "id": "E7r5RuIbjOql",
    "papermill": {
     "duration": 0.021775,
     "end_time": "2021-02-14T01:32:40.581894",
     "exception": false,
     "start_time": "2021-02-14T01:32:40.560119",
     "status": "completed"
    },
    "tags": []
   },
   "source": [
    "Keras kütüphanesi ile hazırlanacak neural networklerde inputları numpy array olarak ayırmak zorundayız.\n",
    "\n",
    "Sinir ağları modelleri numpy arrayi olarak işlenir."
   ]
  },
  {
   "cell_type": "code",
   "execution_count": 11,
   "metadata": {
    "execution": {
     "iopub.execute_input": "2021-02-14T01:32:40.629473Z",
     "iopub.status.busy": "2021-02-14T01:32:40.628273Z",
     "iopub.status.idle": "2021-02-14T01:32:40.641917Z",
     "shell.execute_reply": "2021-02-14T01:32:40.641307Z"
    },
    "id": "reFHv0vOEGZO",
    "papermill": {
     "duration": 0.0381,
     "end_time": "2021-02-14T01:32:40.642073",
     "exception": false,
     "start_time": "2021-02-14T01:32:40.603973",
     "status": "completed"
    },
    "tags": []
   },
   "outputs": [],
   "source": [
    "train, test = split_dataset(df.values)#verisetini yukarıda yazılan fonksiyon içinde ayırdım."
   ]
  },
  {
   "cell_type": "markdown",
   "metadata": {
    "id": "TVBTsKzDKiMP",
    "papermill": {
     "duration": 0.019865,
     "end_time": "2021-02-14T01:32:40.681510",
     "exception": false,
     "start_time": "2021-02-14T01:32:40.661645",
     "status": "completed"
    },
    "tags": []
   },
   "source": [
    "Her bir günde 15 dk'lık 96 ölçüm var.Modeli denerken işlemi hızlandırmak için şimdilik 40 günlük bir öğrenme veri seti oluşturdum.Her bir satırda 13 özellik(feature) var.Bu yüzden modele okutacağımız öğrenme şeklini 40,96,13  olarak oluşturdum.\n",
    "Test setini de küçük tutmak adına 1 hafta sonrası olarak aldım.7,96,13"
   ]
  },
  {
   "cell_type": "code",
   "execution_count": 12,
   "metadata": {
    "execution": {
     "iopub.execute_input": "2021-02-14T01:32:40.725820Z",
     "iopub.status.busy": "2021-02-14T01:32:40.725087Z",
     "iopub.status.idle": "2021-02-14T01:32:40.728563Z",
     "shell.execute_reply": "2021-02-14T01:32:40.728014Z"
    },
    "id": "cgAS8wnwGdm9",
    "outputId": "02350ae5-b994-4a9e-b4d6-0ef40d5a9526",
    "papermill": {
     "duration": 0.027584,
     "end_time": "2021-02-14T01:32:40.728704",
     "exception": false,
     "start_time": "2021-02-14T01:32:40.701120",
     "status": "completed"
    },
    "tags": []
   },
   "outputs": [
    {
     "name": "stdout",
     "output_type": "stream",
     "text": [
      "train shape == (960, 4, 8).\n",
      "test shape == (168, 4, 8).\n"
     ]
    }
   ],
   "source": [
    "print('train shape == {}.'.format(train.shape))\n",
    "print('test shape == {}.'.format(test.shape))\n"
   ]
  },
  {
   "cell_type": "markdown",
   "metadata": {
    "id": "-R7vYmRrKTAO",
    "papermill": {
     "duration": 0.021819,
     "end_time": "2021-02-14T01:32:40.771324",
     "exception": false,
     "start_time": "2021-02-14T01:32:40.749505",
     "status": "completed"
    },
    "tags": []
   },
   "source": [
    "Her bir çıktıya rmse uygulama işlemi."
   ]
  },
  {
   "cell_type": "code",
   "execution_count": 13,
   "metadata": {
    "execution": {
     "iopub.execute_input": "2021-02-14T01:32:40.814656Z",
     "iopub.status.busy": "2021-02-14T01:32:40.813973Z",
     "iopub.status.idle": "2021-02-14T01:32:40.821159Z",
     "shell.execute_reply": "2021-02-14T01:32:40.821728Z"
    },
    "id": "rkx8mUb3EoiQ",
    "papermill": {
     "duration": 0.030497,
     "end_time": "2021-02-14T01:32:40.821912",
     "exception": false,
     "start_time": "2021-02-14T01:32:40.791415",
     "status": "completed"
    },
    "tags": []
   },
   "outputs": [],
   "source": [
    "def evaluate_forecasts(actual, predicted):\n",
    "\tscores = list()\n",
    "\t# Her bir gerçek (test) değerini döngüye sokup rmse değerini ölçmek için yazılmıştır.\n",
    "\tfor i in range(actual.shape[1]):\n",
    "\t\t# calculate mse\n",
    "\t\tmse = mean_squared_error(actual[:, i], predicted[:, i])\n",
    "\t\t# calculate rmse\n",
    "\t\trmse = sqrt(mse)\n",
    "\t\t# store\n",
    "\t\tscores.append(rmse)#hepsini score dosyasına kaydet\n",
    "\t# calculate overall RMSE\n",
    "\ts = 0\n",
    "\tfor row in range(actual.shape[0]):\n",
    "\t\tfor col in range(actual.shape[1]):\n",
    "\t\t\ts += (actual[row, col] - predicted[row, col])**2\n",
    "\tscore = sqrt(s / (actual.shape[0] * actual.shape[1]))\n",
    "\treturn score, scores"
   ]
  },
  {
   "cell_type": "code",
   "execution_count": 14,
   "metadata": {
    "execution": {
     "iopub.execute_input": "2021-02-14T01:32:40.865336Z",
     "iopub.status.busy": "2021-02-14T01:32:40.864646Z",
     "iopub.status.idle": "2021-02-14T01:32:40.868922Z",
     "shell.execute_reply": "2021-02-14T01:32:40.869493Z"
    },
    "id": "RgSqpsoNMQS-",
    "papermill": {
     "duration": 0.02763,
     "end_time": "2021-02-14T01:32:40.869668",
     "exception": false,
     "start_time": "2021-02-14T01:32:40.842038",
     "status": "completed"
    },
    "tags": []
   },
   "outputs": [],
   "source": [
    "# Skoru (Rmse değerlerini) görselleştirme\n",
    "def summarize_scores(name, score, scores):\n",
    "\ts_scores = ', '.join(['%.1f' % s for s in scores])\n",
    "\tprint('%s: [%.3f] %s' % (name, score, s_scores))"
   ]
  },
  {
   "cell_type": "markdown",
   "metadata": {
    "id": "1prdy2Xrh_64",
    "papermill": {
     "duration": 0.023586,
     "end_time": "2021-02-14T01:32:40.913782",
     "exception": false,
     "start_time": "2021-02-14T01:32:40.890196",
     "status": "completed"
    },
    "tags": []
   },
   "source": [
    "Verisetinde bir trend yakalaması için  uygun timestep(zamanaralığı) değeri ayarlamaya çalıştım.\n",
    "\n",
    "!!!! BURASINI OPTİMİZE ETMELİYİM!!!!\n",
    "\n",
    "Ne kadar bir zamanı tahmin etmeliyim (96 data=1 gün).\n",
    "\n",
    "Hangi zaman aralığını input hangisini output almalıyım?\n",
    "Solar radyasyon verisi sabah 8 akşam 5 aralığında ölçülüyor genelde. Bu saatler dışında radyasyon sıfıra çok yakın . bu yüzden 1 günü traine (X) ve bu günün sabahını outputa koyarsam(y) saçma bir  sonuca ulaşabilirim. "
   ]
  },
  {
   "cell_type": "code",
   "execution_count": 15,
   "metadata": {
    "execution": {
     "iopub.execute_input": "2021-02-14T01:32:40.963588Z",
     "iopub.status.busy": "2021-02-14T01:32:40.962908Z",
     "iopub.status.idle": "2021-02-14T01:32:40.971038Z",
     "shell.execute_reply": "2021-02-14T01:32:40.970312Z"
    },
    "id": "VCebRn8CHrAk",
    "papermill": {
     "duration": 0.032271,
     "end_time": "2021-02-14T01:32:40.971189",
     "exception": false,
     "start_time": "2021-02-14T01:32:40.938918",
     "status": "completed"
    },
    "tags": []
   },
   "outputs": [],
   "source": [
    "\n",
    "# input ve output değerlerini ayarlama\n",
    "def to_supervised(train, n_input, n_out=4):\n",
    "\t# flatten data\n",
    "\tdata = train.reshape((train.shape[0]*train.shape[1], train.shape[2]))\n",
    "\tX, y = list(), list()\n",
    "\tin_start = 0\n",
    "\t# step over the entire history one time step at a time\n",
    "\tfor _ in range(len(data)):\n",
    "\t\t# define the end of the input sequence\n",
    "\t\tin_end = in_start + n_input\n",
    "\t\tout_end = in_end + n_out\n",
    "\t\t# ensure we have enough data for this instance\n",
    "\t\tif out_end <= len(data):\n",
    "\t\t\tX.append(data[in_start:in_end, :])\n",
    "\t\t\ty.append(data[in_end:out_end, 0])\n",
    "\t\t# move along one time step\n",
    "\t\tin_start += 1\n",
    "\treturn array(X), array(y)"
   ]
  },
  {
   "cell_type": "markdown",
   "metadata": {
    "id": "1ffnIOj11LuU",
    "papermill": {
     "duration": 0.020712,
     "end_time": "2021-02-14T01:32:41.012556",
     "exception": false,
     "start_time": "2021-02-14T01:32:40.991844",
     "status": "completed"
    },
    "tags": []
   },
   "source": [
    "Modeldi hızlandırmak veya iyileştirmek için uygulanabilecek şeyler. \n",
    "\n",
    "-nöron sayısını değiştirmek\n",
    "\n",
    "-dropout layerı eklemek\n",
    "\n",
    "-aktivasyon fonksiyonlarını değiştirmek\n",
    "\n",
    "-optimizerı değiştirmek.(adam ideal olabilir )"
   ]
  },
  {
   "cell_type": "markdown",
   "metadata": {
    "id": "dgw7fRNh16lr",
    "papermill": {
     "duration": 0.02015,
     "end_time": "2021-02-14T01:32:41.053225",
     "exception": false,
     "start_time": "2021-02-14T01:32:41.033075",
     "status": "completed"
    },
    "tags": []
   },
   "source": [
    "#Eklemem gerek!:\n",
    "-Daha sağlıklı bir analiz için model süresi . \n",
    "Loss grafiği(gradient descent minimuma yaklaşıyor mu ? )\n",
    "-tensorflowda bir model kurmak  durumu hızlandırabilir bunu da denemem lazım .\n",
    "#Warning \n",
    "Sistemin cuDNN e göre çalışmaması modeli yavaşlatıyor sanırım .\n",
    "\n",
    "-( Layer lstm_13 will not use cuDNN kernel since it doesn't meet the cuDNN kernel criteria. It will use generic GPU kernel as fallback when running on GPU)"
   ]
  },
  {
   "cell_type": "code",
   "execution_count": 16,
   "metadata": {
    "execution": {
     "iopub.execute_input": "2021-02-14T01:32:41.105014Z",
     "iopub.status.busy": "2021-02-14T01:32:41.104252Z",
     "iopub.status.idle": "2021-02-14T01:32:41.108049Z",
     "shell.execute_reply": "2021-02-14T01:32:41.107380Z"
    },
    "id": "163TvpNTKD_g",
    "papermill": {
     "duration": 0.034154,
     "end_time": "2021-02-14T01:32:41.108216",
     "exception": false,
     "start_time": "2021-02-14T01:32:41.074062",
     "status": "completed"
    },
    "tags": []
   },
   "outputs": [],
   "source": [
    "# train the model\n",
    "def build_model(train, n_input):\n",
    "\n",
    "\n",
    "\t# prepare data\n",
    "\ttrain_x, train_y = to_supervised(train, n_input)\n",
    "\t# define parameters\n",
    "\tverbose, epochs, batch_size = 1, 50, 16\n",
    "  #timesteps bizim belirlediğimiz 96 değeri(1 gün)\n",
    "  #feature ,özellik sayısı = 13\n",
    "  #çıktı,(n_output) değeri y nin 2. değeri \n",
    "\tn_timesteps, n_features, n_outputs = train_x.shape[1], train_x.shape[2], train_y.shape[1]\n",
    "\t# reshape output into [samples, timesteps, features]\n",
    "\ttrain_y = train_y.reshape((train_y.shape[0], train_y.shape[1], 1))\n",
    "\t# define model\n",
    "\tmodel = Sequential()\n",
    "\tmodel.add(LSTM(128, activation='relu', input_shape=(n_timesteps, n_features))) #giriş değerini 200 nöronla deneme\n",
    "\tmodel.add(RepeatVector(n_outputs)) # iki boyutlu girdiyi 3 boyuta çevirme komutu.input_shape=(n_timesteps,n_outputs, n_features)olur\n",
    "\tmodel.add(LSTM(128,  activation='relu',return_sequences=True))\n",
    "\tmodel.add(TimeDistributed(Dense(64, activation='relu')))#time distribute girdi ve çıktısı 3 D olmalıdır.\n",
    "\tmodel.add(TimeDistributed(Dense(1)))\n",
    "\n",
    "\tmodel.compile(optimizer = Adam(learning_rate=0.01), loss='mean_squared_error')\n",
    "\t# fit network\n",
    "\tmodel.fit(train_x, train_y, epochs=epochs, batch_size=batch_size, verbose=verbose)\n",
    "\treturn model"
   ]
  },
  {
   "cell_type": "code",
   "execution_count": 17,
   "metadata": {
    "execution": {
     "iopub.execute_input": "2021-02-14T01:32:41.160528Z",
     "iopub.status.busy": "2021-02-14T01:32:41.159494Z",
     "iopub.status.idle": "2021-02-14T01:32:41.162618Z",
     "shell.execute_reply": "2021-02-14T01:32:41.162059Z"
    },
    "id": "Gj0uN5MaK_61",
    "papermill": {
     "duration": 0.032005,
     "end_time": "2021-02-14T01:32:41.162762",
     "exception": false,
     "start_time": "2021-02-14T01:32:41.130757",
     "status": "completed"
    },
    "tags": []
   },
   "outputs": [],
   "source": [
    "def forecast(model, history, n_input):\n",
    "\t# flatten data\n",
    "\tdata = array(history)\n",
    "\tdata = data.reshape((data.shape[0]*data.shape[1], data.shape[2]))\n",
    "\t# retrieve last observations for input data\n",
    "\tinput_x = data[-n_input:, :]\n",
    "\t# reshape into [1, n_input, n]\n",
    "\tinput_x = input_x.reshape((1, input_x.shape[0], input_x.shape[1]))\n",
    "\t# forecast the next week\n",
    "\tyhat = model.predict(input_x, verbose=0)\n",
    "\t# we only want the vector forecast\n",
    "\tyhat = yhat[0]\n",
    "\treturn yhat\n",
    " "
   ]
  },
  {
   "cell_type": "code",
   "execution_count": 18,
   "metadata": {
    "execution": {
     "iopub.execute_input": "2021-02-14T01:32:41.209683Z",
     "iopub.status.busy": "2021-02-14T01:32:41.209042Z",
     "iopub.status.idle": "2021-02-14T01:32:41.215732Z",
     "shell.execute_reply": "2021-02-14T01:32:41.216240Z"
    },
    "id": "8MuEPZrqLHOj",
    "papermill": {
     "duration": 0.030656,
     "end_time": "2021-02-14T01:32:41.216443",
     "exception": false,
     "start_time": "2021-02-14T01:32:41.185787",
     "status": "completed"
    },
    "tags": []
   },
   "outputs": [],
   "source": [
    "# modeli train üstünde çalıştırıp,test ile karşılaştırmak\n",
    "def evaluate_model(train, test, n_input):\n",
    "\t\n",
    "\tmodel = build_model(train, n_input)\n",
    "\tmodel.history.history.keys()\n",
    "\thistory = [x for x in train]\n",
    "\tmyloss = model.history.history[\"loss\"]\n",
    "\n",
    "\tpredictions = list()\n",
    "\tfor i in range(len(test)):\n",
    "\t\t# Traini tahmin etme ve y headi oluşturma\n",
    "\t\tyhat_sequence = forecast(model, history, n_input)\n",
    "\t\t# tahminleri kaydetme\n",
    "\t\tpredictions.append(yhat_sequence)\n",
    "\t\t# get real observation and add to history for predicting the next week\n",
    "    #test verilerinin indexe göre dizilişi ve tahmin\n",
    "\t\thistory.append(test[i, :])\n",
    "\t# evaluate predictions hours for each day\n",
    "\tpredictions = array(predictions)\n",
    "\tscore, scores = evaluate_forecasts(test[:, :, 0], predictions)\n",
    "\treturn score, scores"
   ]
  },
  {
   "cell_type": "code",
   "execution_count": 19,
   "metadata": {
    "execution": {
     "iopub.execute_input": "2021-02-14T01:32:41.261229Z",
     "iopub.status.busy": "2021-02-14T01:32:41.260633Z",
     "iopub.status.idle": "2021-02-14T01:34:46.697619Z",
     "shell.execute_reply": "2021-02-14T01:34:46.697045Z"
    },
    "id": "yzXvnerZLd9l",
    "outputId": "eb1b4010-3d18-4f43-a174-4d919a165c01",
    "papermill": {
     "duration": 125.460493,
     "end_time": "2021-02-14T01:34:46.697801",
     "exception": false,
     "start_time": "2021-02-14T01:32:41.237308",
     "status": "completed"
    },
    "tags": []
   },
   "outputs": [
    {
     "name": "stdout",
     "output_type": "stream",
     "text": [
      "Epoch 1/50\n",
      "240/240 [==============================] - 5s 9ms/step - loss: 368.5633\n",
      "Epoch 2/50\n",
      "240/240 [==============================] - 2s 9ms/step - loss: 12.5984\n",
      "Epoch 3/50\n",
      "240/240 [==============================] - 2s 10ms/step - loss: 7.6337\n",
      "Epoch 4/50\n",
      "240/240 [==============================] - 2s 9ms/step - loss: 1.1171\n",
      "Epoch 5/50\n",
      "240/240 [==============================] - 2s 10ms/step - loss: 0.6153\n",
      "Epoch 6/50\n",
      "240/240 [==============================] - 2s 9ms/step - loss: 1.1527\n",
      "Epoch 7/50\n",
      "240/240 [==============================] - 2s 9ms/step - loss: 0.7415\n",
      "Epoch 8/50\n",
      "240/240 [==============================] - 2s 9ms/step - loss: 0.6634\n",
      "Epoch 9/50\n",
      "240/240 [==============================] - 2s 9ms/step - loss: 0.6989\n",
      "Epoch 10/50\n",
      "240/240 [==============================] - 2s 9ms/step - loss: 0.6293\n",
      "Epoch 11/50\n",
      "240/240 [==============================] - 2s 9ms/step - loss: 0.5790\n",
      "Epoch 12/50\n",
      "240/240 [==============================] - 2s 9ms/step - loss: 0.5872\n",
      "Epoch 13/50\n",
      "240/240 [==============================] - 2s 9ms/step - loss: 0.7156\n",
      "Epoch 14/50\n",
      "240/240 [==============================] - 2s 9ms/step - loss: 0.7636\n",
      "Epoch 15/50\n",
      "240/240 [==============================] - 2s 9ms/step - loss: 0.4413\n",
      "Epoch 16/50\n",
      "240/240 [==============================] - 2s 9ms/step - loss: 0.5341\n",
      "Epoch 17/50\n",
      "240/240 [==============================] - 2s 10ms/step - loss: 0.4521\n",
      "Epoch 18/50\n",
      "240/240 [==============================] - 2s 9ms/step - loss: 0.5339\n",
      "Epoch 19/50\n",
      "240/240 [==============================] - 2s 9ms/step - loss: 0.3844\n",
      "Epoch 20/50\n",
      "240/240 [==============================] - 2s 10ms/step - loss: 0.6602\n",
      "Epoch 21/50\n",
      "240/240 [==============================] - 2s 9ms/step - loss: 0.5194\n",
      "Epoch 22/50\n",
      "240/240 [==============================] - 2s 10ms/step - loss: 0.3960\n",
      "Epoch 23/50\n",
      "240/240 [==============================] - 2s 10ms/step - loss: 0.3914\n",
      "Epoch 24/50\n",
      "240/240 [==============================] - 3s 10ms/step - loss: 0.3460\n",
      "Epoch 25/50\n",
      "240/240 [==============================] - 2s 10ms/step - loss: 0.3692\n",
      "Epoch 26/50\n",
      "240/240 [==============================] - 2s 10ms/step - loss: 0.3668\n",
      "Epoch 27/50\n",
      "240/240 [==============================] - 2s 9ms/step - loss: 0.2967\n",
      "Epoch 28/50\n",
      "240/240 [==============================] - 2s 9ms/step - loss: 0.4494\n",
      "Epoch 29/50\n",
      "240/240 [==============================] - 2s 10ms/step - loss: 0.2820\n",
      "Epoch 30/50\n",
      "240/240 [==============================] - 2s 9ms/step - loss: 0.3063\n",
      "Epoch 31/50\n",
      "240/240 [==============================] - 2s 10ms/step - loss: 0.3008\n",
      "Epoch 32/50\n",
      "240/240 [==============================] - 2s 9ms/step - loss: 0.2461\n",
      "Epoch 33/50\n",
      "240/240 [==============================] - 2s 9ms/step - loss: 0.2523\n",
      "Epoch 34/50\n",
      "240/240 [==============================] - 2s 10ms/step - loss: 0.2378\n",
      "Epoch 35/50\n",
      "240/240 [==============================] - 2s 9ms/step - loss: 0.1723\n",
      "Epoch 36/50\n",
      "240/240 [==============================] - 2s 9ms/step - loss: 0.2395\n",
      "Epoch 37/50\n",
      "240/240 [==============================] - 2s 9ms/step - loss: 0.1902\n",
      "Epoch 38/50\n",
      "240/240 [==============================] - 2s 9ms/step - loss: 0.4283\n",
      "Epoch 39/50\n",
      "240/240 [==============================] - 2s 10ms/step - loss: 0.2262\n",
      "Epoch 40/50\n",
      "240/240 [==============================] - 2s 9ms/step - loss: 0.2646\n",
      "Epoch 41/50\n",
      "240/240 [==============================] - 2s 9ms/step - loss: 0.2357\n",
      "Epoch 42/50\n",
      "240/240 [==============================] - 2s 10ms/step - loss: 0.2132\n",
      "Epoch 43/50\n",
      "240/240 [==============================] - 2s 10ms/step - loss: 0.1712\n",
      "Epoch 44/50\n",
      "240/240 [==============================] - 2s 10ms/step - loss: 0.2186\n",
      "Epoch 45/50\n",
      "240/240 [==============================] - 3s 11ms/step - loss: 0.3722\n",
      "Epoch 46/50\n",
      "240/240 [==============================] - 2s 10ms/step - loss: 0.1760\n",
      "Epoch 47/50\n",
      "240/240 [==============================] - 2s 9ms/step - loss: 0.2835\n",
      "Epoch 48/50\n",
      "240/240 [==============================] - 2s 10ms/step - loss: 0.1800\n",
      "Epoch 49/50\n",
      "240/240 [==============================] - 2s 10ms/step - loss: 0.3257\n",
      "Epoch 50/50\n",
      "240/240 [==============================] - 2s 10ms/step - loss: 0.1775\n"
     ]
    }
   ],
   "source": [
    "n_input = 4\n",
    "score, scores = evaluate_model(train, test, n_input)"
   ]
  },
  {
   "cell_type": "code",
   "execution_count": 20,
   "metadata": {
    "execution": {
     "iopub.execute_input": "2021-02-14T01:34:48.044934Z",
     "iopub.status.busy": "2021-02-14T01:34:48.044227Z",
     "iopub.status.idle": "2021-02-14T01:34:48.048993Z",
     "shell.execute_reply": "2021-02-14T01:34:48.049769Z"
    },
    "papermill": {
     "duration": 0.675992,
     "end_time": "2021-02-14T01:34:48.050137",
     "exception": false,
     "start_time": "2021-02-14T01:34:47.374145",
     "status": "completed"
    },
    "tags": []
   },
   "outputs": [
    {
     "name": "stdout",
     "output_type": "stream",
     "text": [
      "lstm:rmse ortalama: [0.415] 0.3, 0.3, 0.4, 0.6\n"
     ]
    }
   ],
   "source": [
    "summarize_scores('lstm:rmse ortalama', score, scores)"
   ]
  }
 ],
 "metadata": {
  "kernelspec": {
   "display_name": "Python 3",
   "language": "python",
   "name": "python3"
  },
  "language_info": {
   "codemirror_mode": {
    "name": "ipython",
    "version": 3
   },
   "file_extension": ".py",
   "mimetype": "text/x-python",
   "name": "python",
   "nbconvert_exporter": "python",
   "pygments_lexer": "ipython3",
   "version": "3.7.9"
  },
  "papermill": {
   "default_parameters": {},
   "duration": 145.83514,
   "end_time": "2021-02-14T01:34:49.937485",
   "environment_variables": {},
   "exception": null,
   "input_path": "__notebook__.ipynb",
   "output_path": "__notebook__.ipynb",
   "parameters": {},
   "start_time": "2021-02-14T01:32:24.102345",
   "version": "2.2.2"
  }
 },
 "nbformat": 4,
 "nbformat_minor": 4
}
