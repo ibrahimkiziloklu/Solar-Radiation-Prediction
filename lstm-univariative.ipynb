{
 "cells": [
  {
   "cell_type": "markdown",
   "metadata": {
    "id": "sbJuwxJ5cO2c",
    "papermill": {
     "duration": 0.019056,
     "end_time": "2021-02-17T19:09:14.890840",
     "exception": false,
     "start_time": "2021-02-17T19:09:14.871784",
     "status": "completed"
    },
    "tags": []
   },
   "source": [
    "1-VERİ HAZIRLAMA AŞAMASI\n"
   ]
  },
  {
   "cell_type": "markdown",
   "metadata": {
    "id": "89G5nptPcVja",
    "papermill": {
     "duration": 0.01787,
     "end_time": "2021-02-17T19:09:14.926982",
     "exception": false,
     "start_time": "2021-02-17T19:09:14.909112",
     "status": "completed"
    },
    "tags": []
   },
   "source": [
    "Gerekli kütüphaneleri çağıralım "
   ]
  },
  {
   "cell_type": "code",
   "execution_count": 1,
   "metadata": {
    "execution": {
     "iopub.execute_input": "2021-02-17T19:09:14.971075Z",
     "iopub.status.busy": "2021-02-17T19:09:14.970169Z",
     "iopub.status.idle": "2021-02-17T19:09:21.959554Z",
     "shell.execute_reply": "2021-02-17T19:09:21.957994Z"
    },
    "id": "THValPY7cMYg",
    "papermill": {
     "duration": 7.015044,
     "end_time": "2021-02-17T19:09:21.959901",
     "exception": false,
     "start_time": "2021-02-17T19:09:14.944857",
     "status": "completed"
    },
    "tags": []
   },
   "outputs": [],
   "source": [
    "#Genel komutlar\n",
    "\n",
    "import numpy as np\n",
    "\n",
    "import matplotlib.pyplot as plt\n",
    "import pandas as pd\n",
    "from pandas import read_csv\n",
    "from sklearn.preprocessing import MinMaxScaler\n",
    "import os\n",
    "import math\n",
    "#RMSE ile tahmin hatalarımı belirlemek için sqrt çağırdım.(evaluate forecast)\n",
    "from math import sqrt\n",
    "from sklearn.metrics import mean_squared_error\n",
    "#Verisetini ayıklamak için çağırdım\n",
    "from numpy import split\n",
    "from numpy import array\n",
    "#TimeSerieslerde kullanılan kütüphaneler\n",
    "from datetime import timedelta\n",
    "#Tensorflow kütüphaneleri\n",
    "\n",
    "import tensorflow as tf\n",
    "from tensorflow import keras\n",
    "from tensorflow.keras import layers\n",
    "from tensorflow.keras.utils import Sequence\n"
   ]
  },
  {
   "cell_type": "markdown",
   "metadata": {
    "id": "51BTJB0Icv4t",
    "papermill": {
     "duration": 0.018277,
     "end_time": "2021-02-17T19:09:21.999019",
     "exception": false,
     "start_time": "2021-02-17T19:09:21.980742",
     "status": "completed"
    },
    "tags": []
   },
   "source": [
    "Öğrenme setini çağırdım.Verisetimi google drive'a kaydedip çağırdım.\n",
    "\n"
   ]
  },
  {
   "cell_type": "code",
   "execution_count": 2,
   "metadata": {
    "execution": {
     "iopub.execute_input": "2021-02-17T19:09:22.041621Z",
     "iopub.status.busy": "2021-02-17T19:09:22.040993Z",
     "iopub.status.idle": "2021-02-17T19:09:22.336803Z",
     "shell.execute_reply": "2021-02-17T19:09:22.337327Z"
    },
    "id": "YxsPfGfdwYyC",
    "papermill": {
     "duration": 0.319733,
     "end_time": "2021-02-17T19:09:22.337518",
     "exception": false,
     "start_time": "2021-02-17T19:09:22.017785",
     "status": "completed"
    },
    "tags": []
   },
   "outputs": [
    {
     "data": {
      "text/html": [
       "<div>\n",
       "<style scoped>\n",
       "    .dataframe tbody tr th:only-of-type {\n",
       "        vertical-align: middle;\n",
       "    }\n",
       "\n",
       "    .dataframe tbody tr th {\n",
       "        vertical-align: top;\n",
       "    }\n",
       "\n",
       "    .dataframe thead th {\n",
       "        text-align: right;\n",
       "    }\n",
       "</style>\n",
       "<table border=\"1\" class=\"dataframe\">\n",
       "  <thead>\n",
       "    <tr style=\"text-align: right;\">\n",
       "      <th></th>\n",
       "      <th>Unnamed: 0</th>\n",
       "      <th>Date (M/D/YYYY)</th>\n",
       "      <th>Time (H:MM:SS)</th>\n",
       "      <th>Topocentric zenith angle</th>\n",
       "      <th>Top. azimuth angle (eastward from N)</th>\n",
       "      <th>Top. azimuth angle (westward from S)</th>\n",
       "      <th>Julian day</th>\n",
       "    </tr>\n",
       "  </thead>\n",
       "  <tbody>\n",
       "    <tr>\n",
       "      <th>0</th>\n",
       "      <td>0</td>\n",
       "      <td>1/1/2017</td>\n",
       "      <td>0:00:00</td>\n",
       "      <td>157.863107</td>\n",
       "      <td>308.657327</td>\n",
       "      <td>128.657327</td>\n",
       "      <td>2.457754e+06</td>\n",
       "    </tr>\n",
       "    <tr>\n",
       "      <th>1</th>\n",
       "      <td>1</td>\n",
       "      <td>1/1/2017</td>\n",
       "      <td>0:15:00</td>\n",
       "      <td>160.034217</td>\n",
       "      <td>316.136781</td>\n",
       "      <td>136.136781</td>\n",
       "      <td>2.457754e+06</td>\n",
       "    </tr>\n",
       "    <tr>\n",
       "      <th>2</th>\n",
       "      <td>2</td>\n",
       "      <td>1/1/2017</td>\n",
       "      <td>0:30:00</td>\n",
       "      <td>161.901608</td>\n",
       "      <td>325.052191</td>\n",
       "      <td>145.052191</td>\n",
       "      <td>2.457754e+06</td>\n",
       "    </tr>\n",
       "    <tr>\n",
       "      <th>3</th>\n",
       "      <td>3</td>\n",
       "      <td>1/1/2017</td>\n",
       "      <td>0:45:00</td>\n",
       "      <td>163.360197</td>\n",
       "      <td>335.548911</td>\n",
       "      <td>155.548911</td>\n",
       "      <td>2.457754e+06</td>\n",
       "    </tr>\n",
       "    <tr>\n",
       "      <th>4</th>\n",
       "      <td>4</td>\n",
       "      <td>1/1/2017</td>\n",
       "      <td>1:00:00</td>\n",
       "      <td>164.293788</td>\n",
       "      <td>347.499018</td>\n",
       "      <td>167.499018</td>\n",
       "      <td>2.457754e+06</td>\n",
       "    </tr>\n",
       "  </tbody>\n",
       "</table>\n",
       "</div>"
      ],
      "text/plain": [
       "   Unnamed: 0 Date (M/D/YYYY) Time (H:MM:SS)  Topocentric zenith angle  \\\n",
       "0           0        1/1/2017        0:00:00                157.863107   \n",
       "1           1        1/1/2017        0:15:00                160.034217   \n",
       "2           2        1/1/2017        0:30:00                161.901608   \n",
       "3           3        1/1/2017        0:45:00                163.360197   \n",
       "4           4        1/1/2017        1:00:00                164.293788   \n",
       "\n",
       "   Top. azimuth angle (eastward from N)  Top. azimuth angle (westward from S)  \\\n",
       "0                            308.657327                            128.657327   \n",
       "1                            316.136781                            136.136781   \n",
       "2                            325.052191                            145.052191   \n",
       "3                            335.548911                            155.548911   \n",
       "4                            347.499018                            167.499018   \n",
       "\n",
       "     Julian day  \n",
       "0  2.457754e+06  \n",
       "1  2.457754e+06  \n",
       "2  2.457754e+06  \n",
       "3  2.457754e+06  \n",
       "4  2.457754e+06  "
      ]
     },
     "execution_count": 2,
     "metadata": {},
     "output_type": "execute_result"
    }
   ],
   "source": [
    "path = \"../input/solar-radiation-dataset/solar_angles_dataset.csv\"\n",
    "df = pd.read_csv(path)\n",
    "df.head()"
   ]
  },
  {
   "cell_type": "markdown",
   "metadata": {
    "id": "_1SR0tvUf7RW",
    "papermill": {
     "duration": 0.01856,
     "end_time": "2021-02-17T19:09:22.375375",
     "exception": false,
     "start_time": "2021-02-17T19:09:22.356815",
     "status": "completed"
    },
    "tags": []
   },
   "source": [
    "Verisetini oluşturuken oluşan boş sütunu sildim"
   ]
  },
  {
   "cell_type": "code",
   "execution_count": 3,
   "metadata": {
    "execution": {
     "iopub.execute_input": "2021-02-17T19:09:22.416253Z",
     "iopub.status.busy": "2021-02-17T19:09:22.415552Z",
     "iopub.status.idle": "2021-02-17T19:09:22.457332Z",
     "shell.execute_reply": "2021-02-17T19:09:22.458123Z"
    },
    "id": "WvcivPfqxTFt",
    "papermill": {
     "duration": 0.06426,
     "end_time": "2021-02-17T19:09:22.458357",
     "exception": false,
     "start_time": "2021-02-17T19:09:22.394097",
     "status": "completed"
    },
    "tags": []
   },
   "outputs": [
    {
     "name": "stdout",
     "output_type": "stream",
     "text": [
      "<class 'pandas.core.frame.DataFrame'>\n",
      "RangeIndex: 105216 entries, 0 to 105215\n",
      "Data columns (total 7 columns):\n",
      " #   Column                                Non-Null Count   Dtype  \n",
      "---  ------                                --------------   -----  \n",
      " 0   Unnamed: 0                            105216 non-null  int64  \n",
      " 1   Date (M/D/YYYY)                       105216 non-null  object \n",
      " 2   Time (H:MM:SS)                        105216 non-null  object \n",
      " 3   Topocentric zenith angle              105216 non-null  float64\n",
      " 4   Top. azimuth angle (eastward from N)  105216 non-null  float64\n",
      " 5   Top. azimuth angle (westward from S)  105216 non-null  float64\n",
      " 6   Julian day                            105216 non-null  float64\n",
      "dtypes: float64(4), int64(1), object(2)\n",
      "memory usage: 5.6+ MB\n"
     ]
    }
   ],
   "source": [
    "df.info()"
   ]
  },
  {
   "cell_type": "code",
   "execution_count": 4,
   "metadata": {
    "execution": {
     "iopub.execute_input": "2021-02-17T19:09:22.502749Z",
     "iopub.status.busy": "2021-02-17T19:09:22.502009Z",
     "iopub.status.idle": "2021-02-17T19:09:22.508825Z",
     "shell.execute_reply": "2021-02-17T19:09:22.509361Z"
    },
    "id": "7bJc_Vr6f4K-",
    "papermill": {
     "duration": 0.029473,
     "end_time": "2021-02-17T19:09:22.509542",
     "exception": false,
     "start_time": "2021-02-17T19:09:22.480069",
     "status": "completed"
    },
    "tags": []
   },
   "outputs": [],
   "source": [
    "df=df.drop(['Julian day',\"Top. azimuth angle (eastward from N)\",\"Topocentric zenith angle\"], axis = 1) \n",
    "df=df"
   ]
  },
  {
   "cell_type": "markdown",
   "metadata": {
    "id": "opzrVa9wgCDR",
    "papermill": {
     "duration": 0.019176,
     "end_time": "2021-02-17T19:09:22.548338",
     "exception": false,
     "start_time": "2021-02-17T19:09:22.529162",
     "status": "completed"
    },
    "tags": []
   },
   "source": [
    "-Zaman sütunlarını birleştirip datetime'a çevirdim, sonra diğer sütunları sildim.\n",
    "\n",
    "-Datetime sütununu index yaptım ."
   ]
  },
  {
   "cell_type": "code",
   "execution_count": 5,
   "metadata": {
    "execution": {
     "iopub.execute_input": "2021-02-17T19:09:22.590728Z",
     "iopub.status.busy": "2021-02-17T19:09:22.590059Z",
     "iopub.status.idle": "2021-02-17T19:09:24.096847Z",
     "shell.execute_reply": "2021-02-17T19:09:24.097385Z"
    },
    "id": "vs6XzwNJfu1l",
    "papermill": {
     "duration": 1.529749,
     "end_time": "2021-02-17T19:09:24.097569",
     "exception": false,
     "start_time": "2021-02-17T19:09:22.567820",
     "status": "completed"
    },
    "tags": []
   },
   "outputs": [],
   "source": [
    "cols = [\"Date (M/D/YYYY)\",\"Time (H:MM:SS)\"]\n",
    "df[\"date_time\"] = df[cols].apply(lambda row: \"\".join(row.values.astype(str)), axis=1)"
   ]
  },
  {
   "cell_type": "code",
   "execution_count": 6,
   "metadata": {
    "execution": {
     "iopub.execute_input": "2021-02-17T19:09:24.140546Z",
     "iopub.status.busy": "2021-02-17T19:09:24.139876Z",
     "iopub.status.idle": "2021-02-17T19:09:24.694101Z",
     "shell.execute_reply": "2021-02-17T19:09:24.694608Z"
    },
    "id": "1IVeOPkif2tM",
    "papermill": {
     "duration": 0.577289,
     "end_time": "2021-02-17T19:09:24.694839",
     "exception": false,
     "start_time": "2021-02-17T19:09:24.117550",
     "status": "completed"
    },
    "tags": []
   },
   "outputs": [],
   "source": [
    "df['date_time'] = pd.to_datetime(df['date_time'], format='%m/%d/%Y%H:%M:%S')"
   ]
  },
  {
   "cell_type": "code",
   "execution_count": 7,
   "metadata": {
    "execution": {
     "iopub.execute_input": "2021-02-17T19:09:24.747237Z",
     "iopub.status.busy": "2021-02-17T19:09:24.742350Z",
     "iopub.status.idle": "2021-02-17T19:09:24.751995Z",
     "shell.execute_reply": "2021-02-17T19:09:24.751228Z"
    },
    "id": "7wAhQipsggb3",
    "papermill": {
     "duration": 0.03519,
     "end_time": "2021-02-17T19:09:24.752155",
     "exception": false,
     "start_time": "2021-02-17T19:09:24.716965",
     "status": "completed"
    },
    "tags": []
   },
   "outputs": [],
   "source": [
    "df=df.drop([\"Date (M/D/YYYY)\",\"Time (H:MM:SS)\" ,\"Unnamed: 0\"], axis = 1)"
   ]
  },
  {
   "cell_type": "code",
   "execution_count": 8,
   "metadata": {
    "execution": {
     "iopub.execute_input": "2021-02-17T19:09:24.802897Z",
     "iopub.status.busy": "2021-02-17T19:09:24.802222Z",
     "iopub.status.idle": "2021-02-17T19:09:24.816171Z",
     "shell.execute_reply": "2021-02-17T19:09:24.817108Z"
    },
    "id": "ocoPaycP9i8o",
    "papermill": {
     "duration": 0.043498,
     "end_time": "2021-02-17T19:09:24.817351",
     "exception": false,
     "start_time": "2021-02-17T19:09:24.773853",
     "status": "completed"
    },
    "tags": []
   },
   "outputs": [
    {
     "name": "stdout",
     "output_type": "stream",
     "text": [
      "Test dates: 2020-01-01 00:00:00 to 2020-01-01 23:45:00\n",
      "Validation dates: 2019-12-18 00:00:00 to 2019-12-31 23:45:00\n",
      "Train dates: 2017-01-01 00:00:00 to 2019-12-17 23:45:00\n"
     ]
    }
   ],
   "source": [
    "# Split into training, validation and test datasets.\n",
    "# Since it's timeseries we should do it by date.\n",
    "test_cutoff_date = df['date_time'].max() - timedelta(days=1)\n",
    "val_cutoff_date = test_cutoff_date - timedelta(days=14)\n",
    "\n",
    "df_test = df[df['date_time'] > test_cutoff_date]\n",
    "df_val = df[(df['date_time'] > val_cutoff_date) & (df['date_time'] <= test_cutoff_date)]\n",
    "df_train = df[df['date_time'] <= val_cutoff_date]\n",
    "\n",
    "#check out the datasets\n",
    "print('Test dates: {} to {}'.format(df_test['date_time'].min(), df_test['date_time'].max()))\n",
    "print('Validation dates: {} to {}'.format(df_val['date_time'].min(), df_val['date_time'].max()))\n",
    "print('Train dates: {} to {}'.format(df_train['date_time'].min(), df_train['date_time'].max()))"
   ]
  },
  {
   "cell_type": "code",
   "execution_count": 9,
   "metadata": {
    "execution": {
     "iopub.execute_input": "2021-02-17T19:09:24.862950Z",
     "iopub.status.busy": "2021-02-17T19:09:24.862241Z",
     "iopub.status.idle": "2021-02-17T19:09:24.868853Z",
     "shell.execute_reply": "2021-02-17T19:09:24.869374Z"
    },
    "id": "wQ8s4BH2taUk",
    "papermill": {
     "duration": 0.030451,
     "end_time": "2021-02-17T19:09:24.869560",
     "exception": false,
     "start_time": "2021-02-17T19:09:24.839109",
     "status": "completed"
    },
    "tags": []
   },
   "outputs": [],
   "source": [
    "df_test=df_test.set_index('date_time') #Columnu index yapmak için\n",
    "df_val=df_val.set_index('date_time') #Columnu index yapmak için\n",
    "df_train=df_train.set_index('date_time') #Columnu index yapmak için"
   ]
  },
  {
   "cell_type": "code",
   "execution_count": 10,
   "metadata": {
    "execution": {
     "iopub.execute_input": "2021-02-17T19:09:24.916154Z",
     "iopub.status.busy": "2021-02-17T19:09:24.915231Z",
     "iopub.status.idle": "2021-02-17T19:09:28.245450Z",
     "shell.execute_reply": "2021-02-17T19:09:28.244841Z"
    },
    "id": "xFTGKYlotpil",
    "papermill": {
     "duration": 3.354878,
     "end_time": "2021-02-17T19:09:28.245710",
     "exception": false,
     "start_time": "2021-02-17T19:09:24.890832",
     "status": "completed"
    },
    "tags": []
   },
   "outputs": [
    {
     "data": {
      "text/plain": [
       "<AxesSubplot:xlabel='date_time'>"
      ]
     },
     "execution_count": 10,
     "metadata": {},
     "output_type": "execute_result"
    },
    {
     "data": {
      "image/png": "[encoded data removed]",
      "text/plain": [
       "<Figure size 1152x576 with 1 Axes>"
      ]
     },
     "metadata": {
      "needs_background": "light"
     },
     "output_type": "display_data"
    }
   ],
   "source": [
    "df_train.plot(figsize=(16,8))"
   ]
  },
  {
   "cell_type": "code",
   "execution_count": 11,
   "metadata": {
    "execution": {
     "iopub.execute_input": "2021-02-17T19:09:28.300191Z",
     "iopub.status.busy": "2021-02-17T19:09:28.299200Z",
     "iopub.status.idle": "2021-02-17T19:09:28.304550Z",
     "shell.execute_reply": "2021-02-17T19:09:28.303881Z"
    },
    "id": "g0dDZLh1v3VR",
    "papermill": {
     "duration": 0.036389,
     "end_time": "2021-02-17T19:09:28.304721",
     "exception": false,
     "start_time": "2021-02-17T19:09:28.268332",
     "status": "completed"
    },
    "tags": []
   },
   "outputs": [
    {
     "data": {
      "text/plain": [
       "103776"
      ]
     },
     "execution_count": 11,
     "metadata": {},
     "output_type": "execute_result"
    }
   ],
   "source": [
    "len(df_train)"
   ]
  },
  {
   "cell_type": "code",
   "execution_count": 12,
   "metadata": {
    "execution": {
     "iopub.execute_input": "2021-02-17T19:09:28.368703Z",
     "iopub.status.busy": "2021-02-17T19:09:28.367713Z",
     "iopub.status.idle": "2021-02-17T19:09:28.380819Z",
     "shell.execute_reply": "2021-02-17T19:09:28.381603Z"
    },
    "id": "5odQ9-sswUa6",
    "papermill": {
     "duration": 0.044464,
     "end_time": "2021-02-17T19:09:28.381906",
     "exception": false,
     "start_time": "2021-02-17T19:09:28.337442",
     "status": "completed"
    },
    "tags": []
   },
   "outputs": [
    {
     "data": {
      "text/plain": [
       "MinMaxScaler()"
      ]
     },
     "execution_count": 12,
     "metadata": {},
     "output_type": "execute_result"
    }
   ],
   "source": [
    "from sklearn.preprocessing import MinMaxScaler\n",
    "scaler = MinMaxScaler()\n",
    "scaler.fit(df_train)"
   ]
  },
  {
   "cell_type": "code",
   "execution_count": 13,
   "metadata": {
    "execution": {
     "iopub.execute_input": "2021-02-17T19:09:28.440063Z",
     "iopub.status.busy": "2021-02-17T19:09:28.439030Z",
     "iopub.status.idle": "2021-02-17T19:09:28.454541Z",
     "shell.execute_reply": "2021-02-17T19:09:28.453839Z"
    },
    "id": "63tgVZCixEDD",
    "papermill": {
     "duration": 0.044545,
     "end_time": "2021-02-17T19:09:28.454711",
     "exception": false,
     "start_time": "2021-02-17T19:09:28.410166",
     "status": "completed"
    },
    "tags": []
   },
   "outputs": [],
   "source": [
    "scaled_train=scaler.transform(df_train)\n",
    "scaled_test =scaler.transform(df_test)\n",
    "scaled_val=scaler.transform(df_val)"
   ]
  },
  {
   "cell_type": "code",
   "execution_count": 14,
   "metadata": {
    "execution": {
     "iopub.execute_input": "2021-02-17T19:09:28.507529Z",
     "iopub.status.busy": "2021-02-17T19:09:28.506800Z",
     "iopub.status.idle": "2021-02-17T19:09:28.574975Z",
     "shell.execute_reply": "2021-02-17T19:09:28.574071Z"
    },
    "id": "XxDlp_q3xt1c",
    "papermill": {
     "duration": 0.09681,
     "end_time": "2021-02-17T19:09:28.575150",
     "exception": false,
     "start_time": "2021-02-17T19:09:28.478340",
     "status": "completed"
    },
    "tags": []
   },
   "outputs": [],
   "source": [
    "from keras.preprocessing.sequence import TimeseriesGenerator"
   ]
  },
  {
   "cell_type": "code",
   "execution_count": 15,
   "metadata": {
    "execution": {
     "iopub.execute_input": "2021-02-17T19:09:28.629189Z",
     "iopub.status.busy": "2021-02-17T19:09:28.628419Z",
     "iopub.status.idle": "2021-02-17T19:09:28.631617Z",
     "shell.execute_reply": "2021-02-17T19:09:28.632219Z"
    },
    "id": "X9z4AzpK0Qh8",
    "papermill": {
     "duration": 0.033203,
     "end_time": "2021-02-17T19:09:28.632398",
     "exception": false,
     "start_time": "2021-02-17T19:09:28.599195",
     "status": "completed"
    },
    "tags": []
   },
   "outputs": [],
   "source": [
    "n_input =4\n",
    "n_features =1\n",
    "train_generator = TimeseriesGenerator(scaled_train,scaled_train,length=n_input,batch_size = 1)\n"
   ]
  },
  {
   "cell_type": "code",
   "execution_count": 16,
   "metadata": {
    "execution": {
     "iopub.execute_input": "2021-02-17T19:09:28.688283Z",
     "iopub.status.busy": "2021-02-17T19:09:28.687532Z",
     "iopub.status.idle": "2021-02-17T19:09:28.691253Z",
     "shell.execute_reply": "2021-02-17T19:09:28.690580Z"
    },
    "id": "anwJjDeQ56zt",
    "papermill": {
     "duration": 0.034644,
     "end_time": "2021-02-17T19:09:28.691401",
     "exception": false,
     "start_time": "2021-02-17T19:09:28.656757",
     "status": "completed"
    },
    "tags": []
   },
   "outputs": [],
   "source": [
    "from keras.models import Sequential\n",
    "from keras.layers import Dense\n",
    "from keras.layers import LSTM"
   ]
  },
  {
   "cell_type": "code",
   "execution_count": 17,
   "metadata": {
    "execution": {
     "iopub.execute_input": "2021-02-17T19:09:28.744951Z",
     "iopub.status.busy": "2021-02-17T19:09:28.744164Z",
     "iopub.status.idle": "2021-02-17T19:09:28.975841Z",
     "shell.execute_reply": "2021-02-17T19:09:28.975032Z"
    },
    "id": "tXJiYl9I1S3e",
    "papermill": {
     "duration": 0.261084,
     "end_time": "2021-02-17T19:09:28.976009",
     "exception": false,
     "start_time": "2021-02-17T19:09:28.714925",
     "status": "completed"
    },
    "tags": []
   },
   "outputs": [
    {
     "name": "stdout",
     "output_type": "stream",
     "text": [
      "Model: \"sequential\"\n",
      "_________________________________________________________________\n",
      "Layer (type)                 Output Shape              Param #   \n",
      "=================================================================\n",
      "lstm (LSTM)                  (None, 64)                16896     \n",
      "_________________________________________________________________\n",
      "dense (Dense)                (None, 1)                 65        \n",
      "=================================================================\n",
      "Total params: 16,961\n",
      "Trainable params: 16,961\n",
      "Non-trainable params: 0\n",
      "_________________________________________________________________\n"
     ]
    }
   ],
   "source": [
    "model =Sequential()\n",
    "model.add(LSTM(64,activation =\"relu\",input_shape=(n_input,n_features)))\n",
    "model.add(Dense(1))\n",
    "model.compile(optimizer =\"adam\",loss=\"mse\")\n",
    "model.summary()\n"
   ]
  },
  {
   "cell_type": "code",
   "execution_count": 18,
   "metadata": {
    "execution": {
     "iopub.execute_input": "2021-02-17T19:09:29.029944Z",
     "iopub.status.busy": "2021-02-17T19:09:29.029141Z",
     "iopub.status.idle": "2021-02-17T19:54:51.351544Z",
     "shell.execute_reply": "2021-02-17T19:54:51.350400Z"
    },
    "id": "v4vS3uN_6tT7",
    "papermill": {
     "duration": 2722.35119,
     "end_time": "2021-02-17T19:54:51.351739",
     "exception": false,
     "start_time": "2021-02-17T19:09:29.000549",
     "status": "completed"
    },
    "tags": []
   },
   "outputs": [
    {
     "name": "stderr",
     "output_type": "stream",
     "text": [
      "/opt/conda/lib/python3.7/site-packages/tensorflow/python/keras/engine/training.py:1844: UserWarning: `Model.fit_generator` is deprecated and will be removed in a future version. Please use `Model.fit`, which supports generators.\n",
      "  warnings.warn('`Model.fit_generator` is deprecated and '\n"
     ]
    },
    {
     "name": "stdout",
     "output_type": "stream",
     "text": [
      "Epoch 1/10\n",
      "103772/103772 [==============================] - 256s 2ms/step - loss: 0.0103\n",
      "Epoch 2/10\n",
      "103772/103772 [==============================] - 273s 3ms/step - loss: 0.0077\n",
      "Epoch 3/10\n",
      "103772/103772 [==============================] - 267s 3ms/step - loss: 0.0073\n",
      "Epoch 4/10\n",
      "103772/103772 [==============================] - 267s 3ms/step - loss: 0.0069\n",
      "Epoch 5/10\n",
      "103772/103772 [==============================] - 282s 3ms/step - loss: 0.0062\n",
      "Epoch 6/10\n",
      "103772/103772 [==============================] - 264s 3ms/step - loss: 0.0059\n",
      "Epoch 7/10\n",
      "103772/103772 [==============================] - 285s 3ms/step - loss: 0.0050\n",
      "Epoch 8/10\n",
      "103772/103772 [==============================] - 295s 3ms/step - loss: 0.0045\n",
      "Epoch 9/10\n",
      "103772/103772 [==============================] - 258s 2ms/step - loss: 0.0037\n",
      "Epoch 10/10\n",
      "103772/103772 [==============================] - 274s 3ms/step - loss: 0.0035\n"
     ]
    },
    {
     "data": {
      "text/plain": [
       "<tensorflow.python.keras.callbacks.History at 0x7f2b8f7c96d0>"
      ]
     },
     "execution_count": 18,
     "metadata": {},
     "output_type": "execute_result"
    }
   ],
   "source": [
    "model.fit_generator(train_generator,epochs=10)"
   ]
  },
  {
   "cell_type": "code",
   "execution_count": 19,
   "metadata": {
    "execution": {
     "iopub.execute_input": "2021-02-17T19:55:24.030059Z",
     "iopub.status.busy": "2021-02-17T19:55:24.029093Z",
     "iopub.status.idle": "2021-02-17T19:55:24.032363Z",
     "shell.execute_reply": "2021-02-17T19:55:24.032881Z"
    },
    "id": "KBs0FghF7CZF",
    "papermill": {
     "duration": 16.264655,
     "end_time": "2021-02-17T19:55:24.033053",
     "exception": false,
     "start_time": "2021-02-17T19:55:07.768398",
     "status": "completed"
    },
    "tags": []
   },
   "outputs": [
    {
     "data": {
      "text/plain": [
       "dict_keys(['loss'])"
      ]
     },
     "execution_count": 19,
     "metadata": {},
     "output_type": "execute_result"
    }
   ],
   "source": [
    "model.history.history.keys()  "
   ]
  },
  {
   "cell_type": "code",
   "execution_count": 20,
   "metadata": {
    "execution": {
     "iopub.execute_input": "2021-02-17T19:55:56.620129Z",
     "iopub.status.busy": "2021-02-17T19:55:56.612845Z",
     "iopub.status.idle": "2021-02-17T19:55:56.729042Z",
     "shell.execute_reply": "2021-02-17T19:55:56.729512Z"
    },
    "id": "aSVG9qoe7NaG",
    "papermill": {
     "duration": 16.306173,
     "end_time": "2021-02-17T19:55:56.729714",
     "exception": false,
     "start_time": "2021-02-17T19:55:40.423541",
     "status": "completed"
    },
    "tags": []
   },
   "outputs": [
    {
     "data": {
      "text/plain": [
       "[<matplotlib.lines.Line2D at 0x7f2b8f60c4d0>]"
      ]
     },
     "execution_count": 20,
     "metadata": {},
     "output_type": "execute_result"
    },
    {
     "data": {
      "image/png": "[encoded data removed]",
      "text/plain": [
       "<Figure size 432x288 with 1 Axes>"
      ]
     },
     "metadata": {
      "needs_background": "light"
     },
     "output_type": "display_data"
    }
   ],
   "source": [
    "myloss = model.history.history[\"loss\"]\n",
    "plt.plot(range(len(myloss)),myloss)"
   ]
  },
  {
   "cell_type": "markdown",
   "metadata": {
    "id": "88uK-ch4ChLt",
    "papermill": {
     "duration": 16.346622,
     "end_time": "2021-02-17T19:56:29.419975",
     "exception": false,
     "start_time": "2021-02-17T19:56:13.073353",
     "status": "completed"
    },
    "tags": []
   },
   "source": [
    "Forecast Visualisation"
   ]
  },
  {
   "cell_type": "code",
   "execution_count": 21,
   "metadata": {
    "execution": {
     "iopub.execute_input": "2021-02-17T19:57:01.991572Z",
     "iopub.status.busy": "2021-02-17T19:57:01.990906Z",
     "iopub.status.idle": "2021-02-17T19:57:05.998934Z",
     "shell.execute_reply": "2021-02-17T19:57:05.998139Z"
    },
    "id": "GM_4r_ZMCf4V",
    "papermill": {
     "duration": 20.233158,
     "end_time": "2021-02-17T19:57:05.999085",
     "exception": false,
     "start_time": "2021-02-17T19:56:45.765927",
     "status": "completed"
    },
    "tags": []
   },
   "outputs": [],
   "source": [
    "test_predictions = []\n",
    "\n",
    "first_eval_batch = scaled_train[-n_input:]\n",
    "current_batch = first_eval_batch.reshape((1, n_input, n_features))\n",
    "\n",
    "for i in range(len(df_test)):\n",
    "    \n",
    "    # get prediction 1 time stamp ahead ([0] is for grabbing just the number instead of [array])\n",
    "    current_pred = model.predict(current_batch)[0]\n",
    "    \n",
    "    # store prediction\n",
    "    test_predictions.append(current_pred) \n",
    "    \n",
    "    # update batch to now include prediction and drop first value\n",
    "    current_batch = np.append(current_batch[:,1:,:],[[current_pred]],axis=1)"
   ]
  },
  {
   "cell_type": "code",
   "execution_count": 22,
   "metadata": {
    "execution": {
     "iopub.execute_input": "2021-02-17T19:57:38.628485Z",
     "iopub.status.busy": "2021-02-17T19:57:38.627842Z",
     "iopub.status.idle": "2021-02-17T19:57:38.631394Z",
     "shell.execute_reply": "2021-02-17T19:57:38.630749Z"
    },
    "id": "tUR0tV2NdVuf",
    "papermill": {
     "duration": 16.215966,
     "end_time": "2021-02-17T19:57:38.631551",
     "exception": false,
     "start_time": "2021-02-17T19:57:22.415585",
     "status": "completed"
    },
    "tags": []
   },
   "outputs": [],
   "source": [
    "true_predictions = scaler.inverse_transform(test_predictions)"
   ]
  },
  {
   "cell_type": "code",
   "execution_count": 23,
   "metadata": {
    "execution": {
     "iopub.execute_input": "2021-02-17T19:58:11.105077Z",
     "iopub.status.busy": "2021-02-17T19:58:11.103393Z",
     "iopub.status.idle": "2021-02-17T19:58:11.108200Z",
     "shell.execute_reply": "2021-02-17T19:58:11.107690Z"
    },
    "id": "pQxc2gnBEbZj",
    "papermill": {
     "duration": 16.257727,
     "end_time": "2021-02-17T19:58:11.108349",
     "exception": false,
     "start_time": "2021-02-17T19:57:54.850622",
     "status": "completed"
    },
    "tags": []
   },
   "outputs": [
    {
     "data": {
      "text/plain": [
       "array([[130.53810907],\n",
       "       [136.75524973],\n",
       "       [143.35055414],\n",
       "       [150.33923466],\n",
       "       [157.70820307],\n",
       "       [165.4156629 ],\n",
       "       [173.39304045],\n",
       "       [181.54895421],\n",
       "       [189.77560872],\n",
       "       [197.94594097],\n",
       "       [205.93187951],\n",
       "       [213.61758285],\n",
       "       [220.85607673],\n",
       "       [227.54065996],\n",
       "       [233.60145003],\n",
       "       [239.00617696],\n",
       "       [243.75820937],\n",
       "       [247.88919499],\n",
       "       [251.44970586],\n",
       "       [254.52354949],\n",
       "       [257.20382391],\n",
       "       [259.56697718],\n",
       "       [261.6754251 ],\n",
       "       [263.55356326],\n",
       "       [265.23271756],\n",
       "       [266.73661844],\n",
       "       [268.08835266],\n",
       "       [269.30735946],\n",
       "       [270.41799151],\n",
       "       [271.43790717],\n",
       "       [272.3826192 ],\n",
       "       [273.27212469],\n",
       "       [274.12170038],\n",
       "       [274.94303985],\n",
       "       [275.74425349],\n",
       "       [276.53109155],\n",
       "       [277.30748048],\n",
       "       [278.07614522],\n",
       "       [278.83884517],\n",
       "       [279.59676041],\n",
       "       [280.35059898],\n",
       "       [281.10079002],\n",
       "       [281.84754809],\n",
       "       [282.590959  ],\n",
       "       [283.33093694],\n",
       "       [284.06735316],\n",
       "       [284.8001004 ],\n",
       "       [285.52898553],\n",
       "       [286.25377255],\n",
       "       [286.97422544],\n",
       "       [287.69017254],\n",
       "       [288.40127057],\n",
       "       [289.10730496],\n",
       "       [289.80799678],\n",
       "       [290.50308856],\n",
       "       [291.19232282],\n",
       "       [291.87539919],\n",
       "       [292.55916214],\n",
       "       [293.27592458],\n",
       "       [294.03995481],\n",
       "       [294.86502763],\n",
       "       [295.75579903],\n",
       "       [296.71662459],\n",
       "       [297.74913498],\n",
       "       [298.85523979],\n",
       "       [300.03579726],\n",
       "       [301.29119361],\n",
       "       [302.6206564 ],\n",
       "       [304.02219024],\n",
       "       [305.4920832 ],\n",
       "       [307.02477817],\n",
       "       [308.61237929],\n",
       "       [310.24130486],\n",
       "       [311.89151488],\n",
       "       [313.62838608],\n",
       "       [315.49148351],\n",
       "       [317.50541732],\n",
       "       [319.67540133],\n",
       "       [322.01149846],\n",
       "       [324.44359018],\n",
       "       [326.91061243],\n",
       "       [329.4384198 ],\n",
       "       [332.00609261],\n",
       "       [334.63167542],\n",
       "       [337.30341031],\n",
       "       [339.97430841],\n",
       "       [342.54981269],\n",
       "       [344.90101491],\n",
       "       [346.85306933],\n",
       "       [348.21291397],\n",
       "       [348.83194387],\n",
       "       [348.64177847],\n",
       "       [347.70088562],\n",
       "       [346.35801276],\n",
       "       [345.1162625 ],\n",
       "       [344.21774545]])"
      ]
     },
     "execution_count": 23,
     "metadata": {},
     "output_type": "execute_result"
    }
   ],
   "source": [
    "true_predictions"
   ]
  },
  {
   "cell_type": "code",
   "execution_count": 24,
   "metadata": {
    "execution": {
     "iopub.execute_input": "2021-02-17T19:58:43.754480Z",
     "iopub.status.busy": "2021-02-17T19:58:43.753763Z",
     "iopub.status.idle": "2021-02-17T19:58:43.757267Z",
     "shell.execute_reply": "2021-02-17T19:58:43.756573Z"
    },
    "id": "OGWCdoRREfwG",
    "papermill": {
     "duration": 16.289286,
     "end_time": "2021-02-17T19:58:43.757415",
     "exception": false,
     "start_time": "2021-02-17T19:58:27.468129",
     "status": "completed"
    },
    "tags": []
   },
   "outputs": [],
   "source": [
    "df_test['Predictions'] = true_predictions"
   ]
  },
  {
   "cell_type": "code",
   "execution_count": 25,
   "metadata": {
    "execution": {
     "iopub.execute_input": "2021-02-17T19:59:16.489222Z",
     "iopub.status.busy": "2021-02-17T19:59:16.486948Z",
     "iopub.status.idle": "2021-02-17T19:59:16.731819Z",
     "shell.execute_reply": "2021-02-17T19:59:16.730873Z"
    },
    "id": "jZXjL-8EEg-f",
    "papermill": {
     "duration": 16.555438,
     "end_time": "2021-02-17T19:59:16.731991",
     "exception": false,
     "start_time": "2021-02-17T19:59:00.176553",
     "status": "completed"
    },
    "tags": []
   },
   "outputs": [
    {
     "data": {
      "text/plain": [
       "<AxesSubplot:xlabel='date_time'>"
      ]
     },
     "execution_count": 25,
     "metadata": {},
     "output_type": "execute_result"
    },
    {
     "data": {
      "image/png": "[encoded data removed]",
      "text/plain": [
       "<Figure size 1440x576 with 1 Axes>"
      ]
     },
     "metadata": {
      "needs_background": "light"
     },
     "output_type": "display_data"
    }
   ],
   "source": [
    "df_test.plot(figsize=(20,8))"
   ]
  },
  {
   "cell_type": "code",
   "execution_count": null,
   "metadata": {
    "id": "2-KAkAiBEk8I",
    "papermill": {
     "duration": 16.150921,
     "end_time": "2021-02-17T19:59:48.984863",
     "exception": false,
     "start_time": "2021-02-17T19:59:32.833942",
     "status": "completed"
    },
    "tags": []
   },
   "outputs": [],
   "source": []
  }
 ],
 "metadata": {
  "kernelspec": {
   "display_name": "Python 3",
   "language": "python",
   "name": "python3"
  },
  "language_info": {
   "codemirror_mode": {
    "name": "ipython",
    "version": 3
   },
   "file_extension": ".py",
   "mimetype": "text/x-python",
   "name": "python",
   "nbconvert_exporter": "python",
   "pygments_lexer": "ipython3",
   "version": "3.7.9"
  },
  "papermill": {
   "default_parameters": {},
   "duration": 3057.530546,
   "end_time": "2021-02-17T20:00:06.352327",
   "environment_variables": {},
   "exception": null,
   "input_path": "__notebook__.ipynb",
   "output_path": "__notebook__.ipynb",
   "parameters": {},
   "start_time": "2021-02-17T19:09:08.821781",
   "version": "2.2.2"
  }
 },
 "nbformat": 4,
 "nbformat_minor": 4
}
